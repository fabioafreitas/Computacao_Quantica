{
 "cells": [
  {
   "cell_type": "markdown",
   "metadata": {},
   "source": [
    "# Lista 0\n",
    "Aluno: Fábio Alves de Freitas"
   ]
  },
  {
   "cell_type": "markdown",
   "metadata": {},
   "source": [
    "## Instalar o git\n",
    "\n",
    "1. No windows ou mac você pode utilizar o [github desktop](https://desktop.github.com)\n",
    "2. No linux sudo apt install git-all\n",
    "3. Teste sua instalação\n",
    "    - Abra seu repositório clicando no link da lista 0 no AVA.\n",
    "    - Copie o endereço da página do seu repositório no github\n",
    "    - Em um terminal digite git clone \"o endereço copiado\"\n",
    "    - Uma nova pasta contendo este arquivo deve ter sido criada\n"
   ]
  },
  {
   "cell_type": "markdown",
   "metadata": {},
   "source": [
    "## Instalar o anaconda\n",
    "\n",
    "1. Baixar e instalar o [anaconda](https://www.anaconda.com/download/) para python 3.6\n",
    "2. Após a instalação abra o anaconda-navigator\n",
    "3. Abra o jupyter notebook\n",
    "4. Na página do jupyter notebook em seu browser navegue para a pasta criada na seção anterior.\n",
    "5. Dê um clique duplo na primeira linha do arquivo, adicione seu nome e pressione shift + enter\n",
    "6. Salve o arquivo"
   ]
  },
  {
   "cell_type": "markdown",
   "metadata": {},
   "source": [
    "# Enviando as alterações para o github\n",
    "1. Em um terminal navegue para a pasta que contém este arquigo\n",
    "2. git status\n",
    "    - verifique que 'modified:   lista0.ipynb' aparece como resultado. Caso contrário salve seu arquivo.\n",
    "3. git add lista0.ipynb\n",
    "4. git commit -m \"addiciona nome\"\n",
    "5. git push\n",
    "\n",
    "Seu arquivo deve aparecer atualizado no github"
   ]
  },
  {
   "cell_type": "markdown",
   "metadata": {},
   "source": [
    "## Instalar o qiskit\n",
    "\n",
    "1. Faça um cadastro em https://quantumexperience.ng.bluemix.net\n",
    "2. Instale o qiskit seguindo as instruções disponíveis em https://github.com/Qiskit/qiskit-terra/blob/master/README.md\n",
    "3. Renomei o arquivo Qconfig.py.template para Qconfig.py\n",
    "4. No seu [perfil](https://quantumexperience.ng.bluemix.net) copie seu token e inclua no arquivo Qconfig.py (você não deve enviar o arquivo Qconfig.py para o github.\n",
    "5. Execute a célula abaixo e verifique se sua instalação foi bem sucedida. \n",
    "6. Envie as alterações para o github utilizando git add, git commit e git push."
   ]
  },
  {
   "cell_type": "code",
   "execution_count": 1,
   "metadata": {},
   "outputs": [
    {
     "ename": "ModuleNotFoundError",
     "evalue": "No module named 'qiskit'",
     "output_type": "error",
     "traceback": [
      "\u001b[1;31m---------------------------------------------------------------------------\u001b[0m",
      "\u001b[1;31mModuleNotFoundError\u001b[0m                       Traceback (most recent call last)",
      "\u001b[1;32m<ipython-input-1-b39ee083e377>\u001b[0m in \u001b[0;36m<module>\u001b[1;34m()\u001b[0m\n\u001b[1;32m----> 1\u001b[1;33m \u001b[1;32mimport\u001b[0m \u001b[0mqiskit\u001b[0m \u001b[1;32mas\u001b[0m \u001b[0mqkit\u001b[0m\u001b[1;33m\u001b[0m\u001b[0m\n\u001b[0m\u001b[0;32m      2\u001b[0m \u001b[1;32mfrom\u001b[0m \u001b[0mqiskit\u001b[0m\u001b[1;33m.\u001b[0m\u001b[0mtools\u001b[0m\u001b[1;33m.\u001b[0m\u001b[0mvisualization\u001b[0m \u001b[1;32mimport\u001b[0m \u001b[0mcircuit_drawer\u001b[0m\u001b[1;33m\u001b[0m\u001b[0m\n\u001b[0;32m      3\u001b[0m \u001b[1;32mfrom\u001b[0m \u001b[0mqiskit\u001b[0m\u001b[1;33m.\u001b[0m\u001b[0mtools\u001b[0m\u001b[1;33m.\u001b[0m\u001b[0mvisualization\u001b[0m \u001b[1;32mimport\u001b[0m \u001b[0mplot_histogram\u001b[0m\u001b[1;33m\u001b[0m\u001b[0m\n\u001b[0;32m      4\u001b[0m \u001b[1;32mimport\u001b[0m \u001b[0mtime\u001b[0m\u001b[1;33m\u001b[0m\u001b[0m\n\u001b[0;32m      5\u001b[0m \u001b[1;32mimport\u001b[0m \u001b[0mQconfig\u001b[0m\u001b[1;33m\u001b[0m\u001b[0m\n",
      "\u001b[1;31mModuleNotFoundError\u001b[0m: No module named 'qiskit'"
     ]
    }
   ],
   "source": [
    "import qiskit as qkit\n",
    "from qiskit.tools.visualization import circuit_drawer\n",
    "from qiskit.tools.visualization import plot_histogram\n",
    "import time\n",
    "import Qconfig\n",
    "qkit.register(Qconfig.APItoken, Qconfig.config['url'])\n",
    "\n",
    "qkit.available_backends()\n"
   ]
  },
  {
   "cell_type": "code",
   "execution_count": null,
   "metadata": {},
   "outputs": [],
   "source": []
  }
 ],
 "metadata": {
  "kernelspec": {
   "display_name": "Python 3",
   "language": "python",
   "name": "python3"
  },
  "language_info": {
   "codemirror_mode": {
    "name": "ipython",
    "version": 3
   },
   "file_extension": ".py",
   "mimetype": "text/x-python",
   "name": "python",
   "nbconvert_exporter": "python",
   "pygments_lexer": "ipython3",
   "version": "3.6.4"
  }
 },
 "nbformat": 4,
 "nbformat_minor": 2
}
